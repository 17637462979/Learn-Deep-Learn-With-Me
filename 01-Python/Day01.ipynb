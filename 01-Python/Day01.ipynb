{
 "cells": [
  {
   "cell_type": "markdown",
   "metadata": {},
   "source": [
    "### 1. Hello World "
   ]
  },
  {
   "cell_type": "code",
   "execution_count": 1,
   "metadata": {},
   "outputs": [
    {
     "name": "stdout",
     "output_type": "stream",
     "text": [
      "Hello World!\n"
     ]
    }
   ],
   "source": [
    "print(\"Hello World!\")"
   ]
  },
  {
   "cell_type": "markdown",
   "metadata": {},
   "source": [
    "### 2. 变量"
   ]
  },
  {
   "cell_type": "markdown",
   "metadata": {},
   "source": [
    "- 2.1 命名\n",
    " - 变量名：包含字母/数字/下划线，只能字母和下划线开头，数字不能打头。e.g. tensor_1是正确的，1_tensor是错误的\n",
    " - 不能包含空格 e.g. tensor 1是错误的\n",
    " - 避开python的关键字和函数名用作变量名，也不要用python中有特殊用途的单词，e.g. print\n",
    " - 尽量简洁又有描述性，e.g. student_name就比s_n要更好"
   ]
  },
  {
   "cell_type": "markdown",
   "metadata": {},
   "source": [
    "- 2.2 变量赋值\n",
    " - 不需要类型声明\n",
    " - 每个变量都必须赋值，赋值以后变量才会被创建"
   ]
  },
  {
   "cell_type": "code",
   "execution_count": 2,
   "metadata": {},
   "outputs": [
    {
     "name": "stdout",
     "output_type": "stream",
     "text": [
      "10\n",
      "10.0\n",
      "sb\n"
     ]
    }
   ],
   "source": [
    "# 2.1 命名\n",
    "# 2.2 变量赋值\n",
    "number = 10 # 整型变量\n",
    "distance = 10.0 # 浮点型变量\n",
    "name = 'sb' # 字符串\n",
    "print(number)\n",
    "print(distance)\n",
    "print(name)"
   ]
  },
  {
   "cell_type": "markdown",
   "metadata": {},
   "source": [
    "- 2.3 多个变量赋值\n",
    " - 同时为多个变量赋值\n",
    " - 为多个对象指定多个变量"
   ]
  },
  {
   "cell_type": "code",
   "execution_count": 3,
   "metadata": {},
   "outputs": [
    {
     "name": "stdout",
     "output_type": "stream",
     "text": [
      "1 1 1\n"
     ]
    }
   ],
   "source": [
    "# 2.3.1 同时为多个变量赋值\n",
    "a = b = c = 1\n",
    "print(a,b,c)"
   ]
  },
  {
   "cell_type": "code",
   "execution_count": 4,
   "metadata": {},
   "outputs": [
    {
     "name": "stdout",
     "output_type": "stream",
     "text": [
      "1 1.0 sb\n"
     ]
    }
   ],
   "source": [
    "# 2.3.2 为多个对象指定多个变量\n",
    "a, b, c = 1, 1.0, 'sb'\n",
    "print(a,b,c)"
   ]
  },
  {
   "cell_type": "markdown",
   "metadata": {},
   "source": [
    "### 3. 字符串\n",
    " - 3.1 修改字符串的大小写\n",
    " - 3.2 拼接字符串\n",
    " - 3.3 制表符和换行符\n",
    " - 3.4 删除空白\n",
    " - 3.5 编码问题\n",
    " - 3.6 格式化输出\n",
    " - 3.7 索引"
   ]
  },
  {
   "cell_type": "code",
   "execution_count": 7,
   "metadata": {},
   "outputs": [
    {
     "name": "stdout",
     "output_type": "stream",
     "text": [
      "Clear Love\n"
     ]
    }
   ],
   "source": [
    "# 3.1 修改字符串的大小写\n",
    "# 3.1.1 让首字母大写 title()函数\n",
    "name = 'clear love'\n",
    "print(name.title())"
   ]
  },
  {
   "cell_type": "code",
   "execution_count": 8,
   "metadata": {},
   "outputs": [
    {
     "name": "stdout",
     "output_type": "stream",
     "text": [
      "CLEAR LOVE\n"
     ]
    }
   ],
   "source": [
    "# 3.1.2 让所有字母变成大写 upper()函数\n",
    "print(name.upper())"
   ]
  },
  {
   "cell_type": "code",
   "execution_count": 10,
   "metadata": {},
   "outputs": [
    {
     "name": "stdout",
     "output_type": "stream",
     "text": [
      "clear love\n"
     ]
    }
   ],
   "source": [
    "# 3.1.3 让所有字母变成小写 lower()函数\n",
    "print(name.lower())"
   ]
  },
  {
   "cell_type": "code",
   "execution_count": 13,
   "metadata": {},
   "outputs": [
    {
     "name": "stdout",
     "output_type": "stream",
     "text": [
      "Hello Clear Love!\n"
     ]
    }
   ],
   "source": [
    "# 3.2 通过+来合并字符串\n",
    "first_name = 'clear'\n",
    "last_name = 'love'\n",
    "full_name = first_name + \" \" + last_name\n",
    "print('Hello ' + full_name.title() + '!')"
   ]
  },
  {
   "cell_type": "code",
   "execution_count": 15,
   "metadata": {},
   "outputs": [
    {
     "name": "stdout",
     "output_type": "stream",
     "text": [
      "sb\n",
      "\tsb\n"
     ]
    }
   ],
   "source": [
    "# 3.3.1 制表符\\t\n",
    "print(\"sb\")\n",
    "print(\"\\tsb\")"
   ]
  },
  {
   "cell_type": "code",
   "execution_count": 17,
   "metadata": {},
   "outputs": [
    {
     "name": "stdout",
     "output_type": "stream",
     "text": [
      "NT\n",
      "SB\n",
      "NC\n"
     ]
    }
   ],
   "source": [
    "# 3.3.2 换行符\\t\n",
    "print(\"NT\\nSB\\nNC\")"
   ]
  },
  {
   "cell_type": "code",
   "execution_count": 18,
   "metadata": {},
   "outputs": [
    {
     "name": "stdout",
     "output_type": "stream",
     "text": [
      "sb \n",
      " sb\n",
      "sb\n"
     ]
    }
   ],
   "source": [
    "# 3.4.1 删除左边的空白 lstrip()函数\n",
    "your_name = ' sb '\n",
    "print(your_name.lstrip())\n",
    "\n",
    "# 3.4.2 删除右边的空白 rstrip()函数\n",
    "print(your_name.rstrip())\n",
    "\n",
    "# 3.4.3 删除两边的空白 strip()函数\n",
    "print(your_name.strip())"
   ]
  },
  {
   "cell_type": "code",
   "execution_count": 19,
   "metadata": {},
   "outputs": [
    {
     "name": "stdout",
     "output_type": "stream",
     "text": [
      "65\n",
      "B\n"
     ]
    }
   ],
   "source": [
    "# 3.5 编码问题\n",
    "# 我们要先了解几种编码，ASCII:一个字节，包括了一些数字和英文字母\n",
    "# Unicode:两个字节，由于一个字节被一些数字和英文字母用完了，那么汉字在一个字节的情况下就会出现乱码，所以两个字节的Unicode就诞生了\n",
    "# UTF-8变长编码：用一个字节表示英文字母，三个字节表示汉字，4-6个字节表示生僻字\n",
    "# Python3中字符串使用Unicode编码\n",
    "\n",
    "# ord()函数：获得字符的整数表示 \n",
    "# chr()函数：获得整数的字符表示\n",
    "print(ord('A'))\n",
    "print(chr(66))"
   ]
  },
  {
   "cell_type": "code",
   "execution_count": 22,
   "metadata": {},
   "outputs": [
    {
     "name": "stdout",
     "output_type": "stream",
     "text": [
      "b'A'\n",
      "b'\\xe5\\x93\\x88\\xe5\\x93\\x88'\n"
     ]
    }
   ],
   "source": [
    "# 编码\n",
    "print('A'.encode('ascii'))\n",
    "print('哈哈'.encode('utf-8'))"
   ]
  },
  {
   "cell_type": "code",
   "execution_count": 24,
   "metadata": {},
   "outputs": [
    {
     "name": "stdout",
     "output_type": "stream",
     "text": [
      "ABC\n",
      "中文\n"
     ]
    }
   ],
   "source": [
    "# 解码\n",
    "print(b'ABC'.decode('ascii'))\n",
    "print(b'\\xe4\\xb8\\xad\\xe6\\x96\\x87'.decode('utf-8'))"
   ]
  },
  {
   "cell_type": "code",
   "execution_count": 25,
   "metadata": {},
   "outputs": [
    {
     "ename": "UnicodeDecodeError",
     "evalue": "'utf-8' codec can't decode byte 0xff in position 3: invalid start byte",
     "output_type": "error",
     "traceback": [
      "\u001b[0;31m---------------------------------------------------------------------------\u001b[0m",
      "\u001b[0;31mUnicodeDecodeError\u001b[0m                        Traceback (most recent call last)",
      "\u001b[0;32m<ipython-input-25-b3694db5dddb>\u001b[0m in \u001b[0;36m<module>\u001b[0;34m\u001b[0m\n\u001b[1;32m      1\u001b[0m \u001b[0;31m# 若有错误\u001b[0m\u001b[0;34m\u001b[0m\u001b[0;34m\u001b[0m\u001b[0;34m\u001b[0m\u001b[0m\n\u001b[0;32m----> 2\u001b[0;31m \u001b[0;34mb'\\xe4\\xb8\\xad\\xff'\u001b[0m\u001b[0;34m.\u001b[0m\u001b[0mdecode\u001b[0m\u001b[0;34m(\u001b[0m\u001b[0;34m'utf-8'\u001b[0m\u001b[0;34m)\u001b[0m\u001b[0;34m\u001b[0m\u001b[0;34m\u001b[0m\u001b[0m\n\u001b[0m",
      "\u001b[0;31mUnicodeDecodeError\u001b[0m: 'utf-8' codec can't decode byte 0xff in position 3: invalid start byte"
     ]
    }
   ],
   "source": [
    "# 若有错误\n",
    "b'\\xe4\\xb8\\xad\\xff'.decode('utf-8')"
   ]
  },
  {
   "cell_type": "code",
   "execution_count": 27,
   "metadata": {},
   "outputs": [
    {
     "data": {
      "text/plain": [
       "'中'"
      ]
     },
     "execution_count": 27,
     "metadata": {},
     "output_type": "execute_result"
    }
   ],
   "source": [
    "# 传入参数errors='ignore' 忽略错误\n",
    "b'\\xe4\\xb8\\xad\\xff'.decode('utf-8',errors='ignore')"
   ]
  },
  {
   "cell_type": "code",
   "execution_count": 31,
   "metadata": {},
   "outputs": [
    {
     "name": "stdout",
     "output_type": "stream",
     "text": [
      "2\n",
      "6\n"
     ]
    }
   ],
   "source": [
    "# len()函数计算字符个数或字节数\n",
    "print(len('中文')) #字符个数\n",
    "print(len(b'\\xe4\\xb8\\xad\\xe6\\x96\\x87')) #字节数"
   ]
  },
  {
   "cell_type": "code",
   "execution_count": 34,
   "metadata": {},
   "outputs": [
    {
     "data": {
      "text/plain": [
       "'Hello, world'"
      ]
     },
     "execution_count": 34,
     "metadata": {},
     "output_type": "execute_result"
    }
   ],
   "source": [
    "# 3.6 格式化输出\n",
    "# 3.6.1 %d 整数 %f 浮点数 %s 字符串 %x 十六进制数\n",
    "'Hello, %s' %'world'"
   ]
  },
  {
   "cell_type": "code",
   "execution_count": 36,
   "metadata": {},
   "outputs": [
    {
     "name": "stdout",
     "output_type": "stream",
     "text": [
      "10 %\n"
     ]
    }
   ],
   "source": [
    "# 3.6.2 遇到需要表示普通字符%的时候\n",
    "print('%d %%'%10)"
   ]
  },
  {
   "cell_type": "code",
   "execution_count": 40,
   "metadata": {},
   "outputs": [
    {
     "data": {
      "text/plain": [
       "'hello sb,you get 0.0 point'"
      ]
     },
     "execution_count": 40,
     "metadata": {},
     "output_type": "execute_result"
    }
   ],
   "source": [
    "# 3.6.3 format()函数对应{0},{1}······\n",
    "# {1:.1f} -> .1f精确到小数点后一位\n",
    "'hello {0},you get {1:.1f} point'.format('sb',0.000)"
   ]
  },
  {
   "cell_type": "code",
   "execution_count": 41,
   "metadata": {},
   "outputs": [
    {
     "name": "stdout",
     "output_type": "stream",
     "text": [
      "Hello world\n",
      "H\n",
      "ello\n",
      "llo world\n",
      "d\n",
      "Hello worldHello world\n"
     ]
    }
   ],
   "source": [
    "# 3.7 索引\n",
    "# 从左到右从0开始\n",
    "# 从右到左从-1开始\n",
    "\n",
    "str = 'Hello world'\n",
    "\n",
    "# 完整\n",
    "print(str)\n",
    "\n",
    "# 第一个字符\n",
    "print(str[0])\n",
    "\n",
    "# 第2-5个\n",
    "print(str[1:5])\n",
    "\n",
    "# 第3个以后\n",
    "print(str[2:])\n",
    "\n",
    "# 最后一个\n",
    "print(str[-1])\n",
    "\n",
    "# 输出两次\n",
    "print(str*2)"
   ]
  }
 ],
 "metadata": {
  "kernelspec": {
   "display_name": "Python 3",
   "language": "python",
   "name": "python3"
  },
  "language_info": {
   "codemirror_mode": {
    "name": "ipython",
    "version": 3
   },
   "file_extension": ".py",
   "mimetype": "text/x-python",
   "name": "python",
   "nbconvert_exporter": "python",
   "pygments_lexer": "ipython3",
   "version": "3.7.3"
  }
 },
 "nbformat": 4,
 "nbformat_minor": 2
}
